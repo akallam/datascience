{
 "cells": [
  {
   "cell_type": "markdown",
   "id": "778f001c-e4cf-49b3-9c40-b33ae9461ba8",
   "metadata": {},
   "source": [
    "## 1. Introduction: \n",
    "This Jupyter Notebook performs a proportions test using `proportions_ztest` from `statsmodels.stats.proportion` to determine if proportion of hobbyist users is the same for those under thirty as for those aged thirty and over.\n",
    "\n",
    "### 1.1 Problem Statement\n",
    "**$H_0$**: The proportion of hobbyist users is the same for those under thirty as for those aged thirty and over.\n",
    "\n",
    "**$H_a$**: The proportion of hobbyist users is not the same for the two age groups.\n",
    "\n",
    "### 1.2 Data Source\n",
    "The dataset, `stack_overflow.feather` is from datacamp. This is available as a feather file for datacamp subscribers and expected to be placed in `../../data` folder. \n",
    "We will be using `hobbyist` column which is a `Yes, No` column. Yes representing that the user is a hobbyist, and `age_cat` column which is categorical column with values `Under 30` for users who are under 30 year old and `At least 30` for users with at least 30 years old.\n",
    "We'll use `pandas` to load the data and create two separate groups based on age: `under_thirty` and `at_least_thirty`.\n",
    "\n",
    "## 2. Import Libraries and Set Significe Level\n",
    "This step imports the necessary Python libraries and loads the dataset into a pandas DataFrame, and sets the significance level to 0.05\n",
    "- `pandas` is imported as pd for data manipulation and analysis.\n",
    "- `proportions_ztest` is imported to test for proportions based on normal (z) test\n",
    "- `alpha` is set to 0.05. This is the chosen significance level, which will be used to compare against the p-value to decide whether to reject the null hypothesis."
   ]
  },
  {
   "cell_type": "code",
   "execution_count": 22,
   "id": "456c3515-d9a1-415a-835f-3d990fef73cf",
   "metadata": {},
   "outputs": [],
   "source": [
    "import pandas as pd\n",
    "import numpy as np\n",
    "from statsmodels.stats.proportion import proportions_ztest\n",
    "alpha = 0.05"
   ]
  },
  {
   "cell_type": "markdown",
   "id": "54910d0e-c7f1-4c91-a2fb-3a7ccf322276",
   "metadata": {},
   "source": [
    "### 2.1 Load Data and preprocessing\n",
    "- Load the `stack_overflow.feather` dataset into a pandas DataFrame as `df`.\n",
    "- Convert `hobbyist` column values to 1 for `Yes` and 0 for `No`.\n",
    "- Divide original dataframe `df` into two dataframes based on users age.\n",
    "    - `under_thirty_df` for users with age under 30 years.\n",
    "    - `at_least_thirty_df` for users with age at least 30 years.\n"
   ]
  },
  {
   "cell_type": "code",
   "execution_count": 23,
   "id": "9635a457-4258-443b-aaeb-949e359a88ee",
   "metadata": {},
   "outputs": [],
   "source": [
    "df = pd.read_feather('../../data/stack_overflow.feather')\n",
    "\n",
    "df['hobbyist'] = df['hobbyist'].map({'Yes': 1, 'No':0})\n",
    "# Separate the data into two groups based on age\n",
    "under_thirty_df = df[df['age_cat'] == 'Under 30']\n",
    "at_least_thirty_df = df[df['age_cat'] == 'At least 30']\n"
   ]
  },
  {
   "cell_type": "markdown",
   "id": "d06aaa09-9be8-4ec3-b473-84ebc6549191",
   "metadata": {},
   "source": [
    "## 3. Calculating Sample Proportions\n",
    "\n",
    "To perform the z-test for proportions, we need the number of \"successes\" (hobbyist users) and the total number of observations (total users) for each group.\n",
    "\n",
    "1.  **Count the successes and total observations for each group.** A \"success\" is defined as a user being a hobbyist. We'll count the number of users where the `hobbyist` column is `True`.\n",
    "\n",
    "2.  **Calculate the number of users for each group.** The `len` of group gives number of users in that group."
   ]
  },
  {
   "cell_type": "code",
   "execution_count": 24,
   "id": "1888cfa8-7b4c-4081-90de-fec92a4fe4e7",
   "metadata": {},
   "outputs": [
    {
     "name": "stdout",
     "output_type": "stream",
     "text": [
      "[np.int64(1021), np.int64(812)] [1211, 1050]\n"
     ]
    }
   ],
   "source": [
    "# Calculate counts for the under_thirty group\n",
    "count_under_thirty = under_thirty_df['hobbyist'].sum()\n",
    "nobs_under_thirty = len(under_thirty_df)\n",
    "\n",
    "# Calculate counts for the at_least_thirty group\n",
    "count_at_least_thirty = at_least_thirty_df['hobbyist'].sum()\n",
    "nobs_at_least_thirty = len(at_least_thirty_df)\n",
    "\n",
    "# Store counts and nobs in arrays\n",
    "count = [count_under_thirty, count_at_least_thirty]\n",
    "nobs = [nobs_under_thirty, nobs_at_least_thirty]\n",
    "\n",
    "print(count, nobs)"
   ]
  },
  {
   "cell_type": "markdown",
   "id": "71cb1882-fcc8-4412-be77-7a605c764bdd",
   "metadata": {},
   "source": [
    "\n",
    "## 4. Performing the Z-Test\n",
    "\n",
    "The `proportions_ztest` function from `statsmodels.stats.proportion` is the primary tool for this test. It takes three key arguments:\n",
    "\n",
    "  * `count`: A list or array of the number of successes for each group.\n",
    "  * `nobs`: A list or array of the total number of observations for each group.\n",
    "  * `alternative`: Specifies the type of test. For our hypothesis, the `alternative='two-sided'` option is used because we are testing for a difference, not a specific direction (e.g., one group being greater than the other). Other options are `'smaller'` or `'larger'`.\n",
    "\n",
    "The function returns two values: the **z-statistic** and the **p-value**.\n",
    "\n"
   ]
  },
  {
   "cell_type": "code",
   "execution_count": 25,
   "id": "583cd986-2295-4825-815f-0c9c0bc604cb",
   "metadata": {},
   "outputs": [
    {
     "name": "stdout",
     "output_type": "stream",
     "text": [
      "z-score: 4.2237\n",
      "p-value: 0.0000\n"
     ]
    }
   ],
   "source": [
    "\n",
    "# Perform the z-test\n",
    "z_score, p_value = proportions_ztest(count=count, nobs=nobs, alternative='two-sided')\n",
    "\n",
    "# Print the results\n",
    "print(f\"z-score: {z_score:.4f}\")\n",
    "print(f\"p-value: {p_value:.4f}\")"
   ]
  },
  {
   "cell_type": "markdown",
   "id": "3d59bf9a-24bc-4e49-8d51-624489a2b404",
   "metadata": {},
   "source": [
    "\n",
    "\n",
    "### Interpreting the Results\n",
    "\n",
    "The p-value is the probability of observing our data (or more extreme data) if the null hypothesis were true. We compare the p-value to our **significance level** ($\\\\alpha$), typically 0.05.\n",
    "\n",
    "  * If **p-value \\< $\\alpha$**: We **reject the null hypothesis** ($H_0$). This suggests there is a statistically significant difference between the proportions.\n",
    "  * If **p-value \\>= $\\alpha$**: We **fail to reject the null hypothesis**. This suggests there is not enough evidence to conclude there is a significant difference.\n"
   ]
  },
  {
   "cell_type": "code",
   "execution_count": 26,
   "id": "43912566-ef0b-47cd-ab7c-6f3641dffb3d",
   "metadata": {},
   "outputs": [
    {
     "name": "stdout",
     "output_type": "stream",
     "text": [
      "Result: Reject the null hypothesis. There is a statistically significant difference in the proportion of hobbyist users between the two age groups.\n"
     ]
    }
   ],
   "source": [
    "# Interpret the results\n",
    "if p_value < alpha:\n",
    "    print(\"Result: Reject the null hypothesis. There is a statistically significant difference in the proportion of hobbyist users between the two age groups.\")\n",
    "else:\n",
    "    print(\"Result: Fail to reject the null hypothesis. There is no statistically significant difference in the proportion of hobbyist users between the two age groups.\")"
   ]
  }
 ],
 "metadata": {
  "kernelspec": {
   "display_name": "Python [conda env:base] *",
   "language": "python",
   "name": "conda-base-py"
  },
  "language_info": {
   "codemirror_mode": {
    "name": "ipython",
    "version": 3
   },
   "file_extension": ".py",
   "mimetype": "text/x-python",
   "name": "python",
   "nbconvert_exporter": "python",
   "pygments_lexer": "ipython3",
   "version": "3.13.5"
  }
 },
 "nbformat": 4,
 "nbformat_minor": 5
}
