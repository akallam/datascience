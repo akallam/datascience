{
 "cells": [
  {
   "cell_type": "markdown",
   "id": "778f001c-e4cf-49b3-9c40-b33ae9461ba8",
   "metadata": {},
   "source": [
    "## 1. Introduction: \n",
    "This Jupyter Notebook performs a proportions test using `proportions_ztest` from `statsmodels.stats.proportion` to determine if the amount paid for freight affects whether or not the shipment was late.\n",
    "\n",
    "### 1.1 Problem Statement\n",
    "**$H_0$**: The proportion of expensive shipments is the same for reasonable shipment for late shipments.\n",
    "\n",
    "**$H_a$**: The proportion of expensive shipments is more than reasonable shipment for late shipments.\n",
    "\n",
    "### 1.2 Data Source\n",
    "The dataset, `late_shipments.feather` is from datacamp. This is available as a feather file for datacamp subscribers and is expected to be placed in `../../data` folder.  \n",
    "We will be using columns: \n",
    "\n",
    "    - `late` column which is a `Yes, No` column. Yes representing that the shipment was late,  \n",
    "    - `freight_cost_groups` Freight costs are stored as categories `expensive` and `reasonable`\n",
    "\n",
    "## 2. Import Libraries and Set Significe Level\n",
    "This step imports the necessary Python libraries and loads the dataset into a pandas DataFrame, and sets the significance level to 0.05\n",
    "- `pandas` is imported as pd for data manipulation and analysis.\n",
    "- `proportions_ztest` is imported to test for proportions based on normal (z) test\n",
    "- `alpha` is set to 0.05. This is the chosen significance level, which will be used to compare against the p-value to decide whether to reject the null hypothesis."
   ]
  },
  {
   "cell_type": "code",
   "execution_count": 7,
   "id": "456c3515-d9a1-415a-835f-3d990fef73cf",
   "metadata": {},
   "outputs": [],
   "source": [
    "import pandas as pd\n",
    "import numpy as np\n",
    "import seaborn as sns\n",
    "import matplotlib.pyplot as plt\n",
    "from statsmodels.stats.proportion import proportions_ztest\n",
    "alpha = 0.05"
   ]
  },
  {
   "cell_type": "markdown",
   "id": "54910d0e-c7f1-4c91-a2fb-3a7ccf322276",
   "metadata": {},
   "source": [
    "### 2.1 Load Data and preprocessing\n",
    "- Load the `late_shipments.feather` dataset into a pandas DataFrame as `late_shipments`.\n",
    "- Inspect `late` and `freight_cost_groups` column values using `value_counts` method."
   ]
  },
  {
   "cell_type": "code",
   "execution_count": 8,
   "id": "9635a457-4258-443b-aaeb-949e359a88ee",
   "metadata": {},
   "outputs": [
    {
     "data": {
      "text/plain": [
       "late\n",
       "No     939\n",
       "Yes     61\n",
       "Name: count, dtype: int64"
      ]
     },
     "execution_count": 8,
     "metadata": {},
     "output_type": "execute_result"
    }
   ],
   "source": [
    "late_shipments = pd.read_feather('../../data/late_shipments.feather')\n",
    "\n",
    "late_shipments['late'].value_counts()"
   ]
  },
  {
   "cell_type": "code",
   "execution_count": 9,
   "id": "81a0f8bb-93dc-4a47-bc7d-f78a2b8d2e3d",
   "metadata": {},
   "outputs": [
    {
     "data": {
      "text/plain": [
       "freight_cost_groups\n",
       "expensive     531\n",
       "reasonable    455\n",
       "Name: count, dtype: int64"
      ]
     },
     "execution_count": 9,
     "metadata": {},
     "output_type": "execute_result"
    }
   ],
   "source": [
    "late_shipments['freight_cost_groups'].value_counts()"
   ]
  },
  {
   "cell_type": "markdown",
   "id": "64ce90d3-da7b-4ed5-963d-ce4aeeca82ef",
   "metadata": {},
   "source": [
    "## 3. Calculating Sample Proportions\n",
    "\n",
    "To perform the z-test for proportions, we need the number of \"successes\" (late shipments) and the total number of observations (total number of shipments) for each group.\n",
    "\n",
    "1.  **Count the successes and total observations for each group.** A \"success\" is defined as a shipment beign late. We'll count the number of shipments where the `late` column is `Yes`.\n",
    "\n",
    "2.  **Calculate the number of users for each group.** The `sum` of each group gives number of shipments in that group."
   ]
  },
  {
   "cell_type": "code",
   "execution_count": 10,
   "id": "1888cfa8-7b4c-4081-90de-fec92a4fe4e7",
   "metadata": {},
   "outputs": [
    {
     "name": "stdout",
     "output_type": "stream",
     "text": [
      "freight_cost_groups  late\n",
      "expensive            No      489\n",
      "                     Yes      42\n",
      "reasonable           No      439\n",
      "                     Yes      16\n",
      "Name: count, dtype: int64\n",
      "[42 16]\n",
      "[531 455]\n"
     ]
    }
   ],
   "source": [
    "# Count the late column values for each freight_cost_group\n",
    "late_by_freight_cost_group = late_shipments.groupby('freight_cost_groups')['late'].value_counts()\n",
    "print(late_by_freight_cost_group)\n",
    "# Create an array of the \"Yes\" counts for each freight_cost_group\n",
    "count_success = np.array([late_by_freight_cost_group[('expensive', 'Yes')], late_by_freight_cost_group[('reasonable', 'Yes')]])\n",
    "print(count_success)\n",
    "# Create an array of the total number of rows in each freight_cost_group\n",
    "n_obs = np.array([late_by_freight_cost_group['expensive'].sum(), late_by_freight_cost_group['reasonable'].sum()])\n",
    "print(n_obs)"
   ]
  },
  {
   "cell_type": "markdown",
   "id": "71cb1882-fcc8-4412-be77-7a605c764bdd",
   "metadata": {},
   "source": [
    "\n",
    "## 4. Performing the Z-Test\n",
    "\n",
    "The `proportions_ztest` function from `statsmodels.stats.proportion` is the primary tool for this test. It takes three key arguments:\n",
    "\n",
    "  * `count`: A list or array of the number of successes for each group.\n",
    "  * `nobs`: A list or array of the total number of observations for each group.\n",
    "  * `alternative`: Specifies the type of test. For our hypothesis, the `alternative='larger'`.\n",
    "\n",
    "The function returns two values: the **z-statistic** and the **p-value**.\n"
   ]
  },
  {
   "cell_type": "code",
   "execution_count": 11,
   "id": "583cd986-2295-4825-815f-0c9c0bc604cb",
   "metadata": {},
   "outputs": [
    {
     "name": "stdout",
     "output_type": "stream",
     "text": [
      "z-score: 2.9226\n",
      "p-value: 0.0017\n"
     ]
    }
   ],
   "source": [
    "\n",
    "# Perform the z-test\n",
    "z_score, p_value = proportions_ztest(count=count_success, nobs=n_obs, alternative='larger')\n",
    "\n",
    "# Print the results\n",
    "print(f\"z-score: {z_score:.4f}\")\n",
    "print(f\"p-value: {p_value:.4f}\")"
   ]
  },
  {
   "cell_type": "markdown",
   "id": "3d59bf9a-24bc-4e49-8d51-624489a2b404",
   "metadata": {},
   "source": [
    "\n",
    "\n",
    "### Interpreting the Results\n",
    "\n",
    "The p-value is the probability of observing our data (or more extreme data) if the null hypothesis were true. We compare the p-value to our **significance level** ($\\\\alpha$), typically 0.05.\n",
    "\n",
    "  * If **p-value \\< $\\alpha$**: We **reject the null hypothesis** ($H_0$). This suggests that proportion of expensive shipments is more than reasonable shipment for late shipments.\n",
    "  * If **p-value \\>= $\\alpha$**: We **fail to reject the null hypothesis**. This suggests there is not enough evidence to conclude that proportion of expensive shipments is more than reasonable shipment for late shipments.\n"
   ]
  },
  {
   "cell_type": "code",
   "execution_count": 12,
   "id": "43912566-ef0b-47cd-ab7c-6f3641dffb3d",
   "metadata": {},
   "outputs": [
    {
     "name": "stdout",
     "output_type": "stream",
     "text": [
      "Result: Reject the null hypothesis. The proportion of late expensive shipments is more than  late reasonable shipments.\n"
     ]
    }
   ],
   "source": [
    "# Interpret the results\n",
    "if p_value < alpha:\n",
    "    print(\"Result: Reject the null hypothesis. The proportion of late expensive shipments is more than  late reasonable shipments.\")\n",
    "else:\n",
    "    print(\"Result: Fail to reject the null hypothesis. Sufficient evidence not found to reject null hypothesis.\")"
   ]
  }
 ],
 "metadata": {
  "kernelspec": {
   "display_name": "Python [conda env:base] *",
   "language": "python",
   "name": "conda-base-py"
  },
  "language_info": {
   "codemirror_mode": {
    "name": "ipython",
    "version": 3
   },
   "file_extension": ".py",
   "mimetype": "text/x-python",
   "name": "python",
   "nbconvert_exporter": "python",
   "pygments_lexer": "ipython3",
   "version": "3.13.5"
  }
 },
 "nbformat": 4,
 "nbformat_minor": 5
}
