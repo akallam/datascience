{
 "cells": [
  {
   "cell_type": "markdown",
   "id": "c8322c6b-7aca-4113-a95f-5b5544f9e30f",
   "metadata": {},
   "source": [
    "## 1. Introduction: \n",
    "This Jupyter Notebook performs a two-sample t-test to investigate whether the mean weight of on-time shipments is less than the mean weight of late shipments using the `late_shipments.feather` dataset.\n",
    "### 1.1 Problem Statement\n",
    "While trying to determine why some shipments are late, you may wonder if the weight of the shipments that were on time is less than the weight of the shipments that were late.\n",
    "- **Null Hypothesis:**  The mean weight of shipments that weren't late is the same as the mean weight of shipments that were late. \n",
    "- **Alternate Hypothesis:** The mean weight of shipments that weren't late is **less than** the mean weight of shipments that were late.\n",
    "\n",
    "## 2. Import Libraries and Load Data\n",
    "This step imports the necessary Python libraries and loads the dataset into a pandas DataFrame, and sets the significance level to 0.05\n",
    "- `pandas` is imported as pd for data manipulation and analysis.\n",
    "- `numpy` is imported as np for numerical operations, particularly for calculating the square root.\n",
    "- `scipy.stats.t` is imported to access functions related to the t-distribution, specifically for calculating the p-value.\n",
    "- `alpha` is set to 0.05. This is the chosen significance level, which will be used to compare against the p-value to decide whether to reject the null hypothesis.\n"
   ]
  },
  {
   "cell_type": "code",
   "execution_count": 21,
   "id": "f61dbe21-de4d-47f7-b3a8-93ae1788185c",
   "metadata": {},
   "outputs": [],
   "source": [
    "import pandas as pd\n",
    "import numpy as np\n",
    "from scipy.stats import t\n",
    "#set significance level\n",
    "alpha = 0.05\n",
    "#load data\n",
    "late_shipments = pd.read_feather('../../data/late_shipments.feather')"
   ]
  },
  {
   "cell_type": "markdown",
   "id": "6f4b4bf2-4c32-4f2d-9e16-1703e40bc450",
   "metadata": {},
   "source": [
    "## 3. Group Data and Calculate Descriptive Statistics\n",
    "This step groups the shipment data based on whether they were late or not and then calculates the mean, standard deviation, and count of 'weight_kilograms' for each group.\n",
    "- `late_shipments.groupby('late')['weight_kilograms']` creates a grouped object (grp_by_late) that allows for operations on `weight_kilograms` separately for shipments that were `late` (Yes/No).\n",
    "- `xbar = grp_by_late.mean()` calculates the mean weight for both the 'No' (on-time) and 'Yes' (late) groups.\n",
    "- `numerator = xbar['No'] - xbar['Yes']` computes the difference between the mean weight of on-time shipments and late shipments. This forms the numerator of the t-statistic formula.\n",
    "- `s = grp_by_late.std()` calculates the standard deviation of weights for both groups. `s_yes` and `s_no` store these values for late and on-time shipments, respectively.\n",
    "- `count = grp_by_late.count()` calculates the number of observations (sample size) for each group. `count_yes` and `count_no` store these values.\n",
    "- `denominator = np.sqrt(s_yes ** 2 / count_yes + s_no ** 2 / count_no)` calculates the **standard error** of the difference between the two sample means. This value is used as the denominator in the t-statistic formula.\n",
    "\n",
    "\n"
   ]
  },
  {
   "cell_type": "code",
   "execution_count": 24,
   "id": "3a922879-1146-45af-b36b-fc54046dc1c8",
   "metadata": {},
   "outputs": [
    {
     "name": "stdout",
     "output_type": "stream",
     "text": [
      "Difference in means (On-time - Late): -817.8808638418964\n",
      "Standard Error of the Difference: 341.68543274794337\n"
     ]
    }
   ],
   "source": [
    "# Group the data by 'late' column and select 'weight_kilograms'\n",
    "grp_by_late = late_shipments.groupby('late')['weight_kilograms']\n",
    "\n",
    "# Calculate the mean weight for each group\n",
    "xbar = grp_by_late.mean()\n",
    "numerator = xbar['No'] - xbar['Yes']\n",
    "print(f\"Difference in means (On-time - Late): {numerator}\")\n",
    "\n",
    "# Calculate the standard deviation for each group\n",
    "s = grp_by_late.std()\n",
    "s_yes = s['Yes'] # Standard deviation of late shipments\n",
    "s_no = s['No']   # Standard deviation of on-time shipments\n",
    "\n",
    "# Calculate the count (sample size) for each group\n",
    "count = grp_by_late.count()\n",
    "count_yes = count['Yes'] # Count of late shipments\n",
    "count_no = count['No']   # Count of on-time shipments\n",
    "\n",
    "# Calculate the denominator for the t-statistic\n",
    "denominator = np.sqrt(s_yes ** 2 / count_yes + s_no ** 2 / count_no)\n",
    "print(f\"Standard Error of the Difference: {denominator}\")\n"
   ]
  },
  {
   "cell_type": "markdown",
   "id": "b8b7e792-05b6-4b1a-99b4-e6e8d2668516",
   "metadata": {},
   "source": [
    "## 4. Calculate T-statistic and Degrees of Freedom\n",
    "This step computes the t-statistic based on the calculated means, standard deviations, and sample sizes, and then determines the degrees of freedom for the t-distribution.\n",
    "- t_stat = numerator / denominator calculates the t-statistic by dividing the `difference in means` (numerator) by the `standard error` of the difference (denominator).\n",
    "- `df = count_yes + count_no - 2` calculates the degrees of freedom for the two-sample t-test. For two independent samples, a common approximation is the sum of the sample sizes minus 2.\n"
   ]
  },
  {
   "cell_type": "code",
   "execution_count": 27,
   "id": "91ea9e92-c487-4876-bfc2-5589ec0aac65",
   "metadata": {},
   "outputs": [
    {
     "name": "stdout",
     "output_type": "stream",
     "text": [
      "T-statistic: -2.3936661778766433\n",
      "Degrees of Freedom: 998\n"
     ]
    }
   ],
   "source": [
    "# Calculate the t-statistic\n",
    "t_stat = numerator / denominator\n",
    "print(f\"T-statistic: {t_stat}\")\n",
    "\n",
    "# Calculate the degrees of freedom\n",
    "# For a two-sample t-test with unequal variances, a common approximation for df is N1 + N2 - 2.\n",
    "df = count_yes + count_no - 2\n",
    "print(f\"Degrees of Freedom: {df}\")"
   ]
  },
  {
   "cell_type": "markdown",
   "id": "cfe491d1-ce7b-4ed0-abe9-d04c304267e9",
   "metadata": {},
   "source": [
    "## 5. Calculate P-value\n",
    "This step calculates the p-value using the cumulative distribution function (CDF) of the t-distribution.\n",
    "- `p_value = t.cdf(t_stat, df=df)` calculates the p-value. Since the alternative hypothesis is a left-tailed test, we use the cumulative distribution function (t.cdf) to find the probability of observing a t-statistic as extreme as, or more extreme than, the calculated t_stat in the left tail of the t-distribution with the calculated degrees of freedom."
   ]
  },
  {
   "cell_type": "code",
   "execution_count": 30,
   "id": "62c8d9b3-7d49-480f-9762-27ff9b58bb4b",
   "metadata": {},
   "outputs": [
    {
     "name": "stdout",
     "output_type": "stream",
     "text": [
      "P-value: 0.008432382146249525\n"
     ]
    }
   ],
   "source": [
    "p_value = t.cdf(t_stat, df=df)\n",
    "print(f\"P-value: {p_value}\")"
   ]
  },
  {
   "cell_type": "markdown",
   "id": "a44358b1-d4c6-41ca-b7c4-5add758824b0",
   "metadata": {},
   "source": [
    "## 6. Make a decision and interpret results\n",
    "This step compares the calculated p-value to the pre-defined significance level (alpha) to decide whether to reject the null hypothesis and then interprets the result in the context of the problem.\n",
    "- If `p_value < alpha`: The output will be **Reject Null Hypothesis**. This means there is sufficient statistical evidence at the 5% significance level to conclude that the mean weight of shipments that were on time is less than the mean weight of shipments that were late.\n",
    "- If `p_value >= alpha`: The output will be **Failed to reject null hypothesis**. This means there is not enough statistical evidence at the 5% significance level to conclude that the mean weight of shipments that were on time is less than the mean weight of shipments that were late."
   ]
  },
  {
   "cell_type": "code",
   "execution_count": 33,
   "id": "c9262f63-8a76-4e65-b86a-7f7da86d11d1",
   "metadata": {},
   "outputs": [
    {
     "name": "stdout",
     "output_type": "stream",
     "text": [
      "Reject Null Hypothesis\n"
     ]
    }
   ],
   "source": [
    "if p_value < alpha:\n",
    "    print(\"Reject Null Hypothesis\")\n",
    "else:\n",
    "    print(\"Failed to reject null hypothesis\")"
   ]
  },
  {
   "cell_type": "markdown",
   "id": "3a3ab2a2-d2c9-4886-9bd6-17a215185a97",
   "metadata": {},
   "source": [
    "## 7. Result Interpretation:\n",
    "In this particular execution, the calculated p-value was approximately 0.0084. Since $0.0084 \\< 0.05$, the null hypothesis is rejected. This suggests that there is statistically significant evidence to support the claim that the mean weight of on-time shipments is indeed less than the mean weight of late shipments."
   ]
  }
 ],
 "metadata": {
  "kernelspec": {
   "display_name": "Python [conda env:base] *",
   "language": "python",
   "name": "conda-base-py"
  },
  "language_info": {
   "codemirror_mode": {
    "name": "ipython",
    "version": 3
   },
   "file_extension": ".py",
   "mimetype": "text/x-python",
   "name": "python",
   "nbconvert_exporter": "python",
   "pygments_lexer": "ipython3",
   "version": "3.11.5"
  }
 },
 "nbformat": 4,
 "nbformat_minor": 5
}
