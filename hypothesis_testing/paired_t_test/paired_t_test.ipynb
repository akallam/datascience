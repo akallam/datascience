{
 "cells": [
  {
   "cell_type": "markdown",
   "id": "d9f2b3f0-527e-4a5c-aa9e-68cc72fc6f8d",
   "metadata": {},
   "source": [
    "## 1. Introduction: \n",
    "This Jupyter Notebook performs a paired t-test to determine if the percentage of Republican candidate votes in 2008 was less than in 2012.\n",
    "\n",
    "### 1.1 Problem Statement\n",
    "- **Null Hypothesis:** The percentage of republican candidate votes in 2008 is the same as the percentage of votes in 2012.\n",
    "- **Alternate Hypothesis:** The percentage of republican candidate votes in 2008 is less than the percentage of votes in 2012.\n",
    "  \n",
    "### 1.2 Data Source\n",
    "The analysis uses the `countypres_2000-2024.csv` dataset from [Harvard](https://dataverse.harvard.edu/dataset.xhtml?persistentId=doi:10.7910/DVN/VOQCHQ), which contains county-level returns for presidential elections from 2000 through 2024. The data is sourced from official state election records.\n",
    "\n",
    "The columns in the dataset are\n",
    "\n",
    "| Column | Description |\n",
    "|--------|-------------|\n",
    "|`year` | election year |\n",
    "|`state` | state name |\n",
    "|`state_po` | U.S. postal code state abbreviation |\n",
    "|`county_name` | county name | \n",
    "|`county_fips` | county FIPS code |\n",
    "|`office` | President |\n",
    "|`candidate` | name of the candidate |\n",
    "|`party` | party of the candidate; takes form of DEMOCRAT, REPUBLICAN, GREEN, LIBERTARIAN, or OTHER |\n",
    "|`candidatevotes` | votes received by this candidate for this particular party |\n",
    "|`totalvotes` | total number of votes cast in this county-year |\n",
    "|`version` | date when dataset was finalized |\n",
    "|`mode` | mode of ballots cast; default is TOTAL, with different modes specified for 2020 |\n",
    "\n",
    "## 2. Import Libraries and Set Significe Level\n",
    "This step imports the necessary Python libraries and loads the dataset into a pandas DataFrame, and sets the significance level to 0.05\n",
    "- `pandas` is imported as pd for data manipulation and analysis.\n",
    "- `pingouin` is imported to access functions related to the t-test, specifically for calculating the p-value.\n",
    "- `alpha` is set to 0.05. This is the chosen significance level, which will be used to compare against the p-value to decide whether to reject the null hypothesis."
   ]
  },
  {
   "cell_type": "code",
   "execution_count": 5,
   "id": "e5be14c1-0478-4dee-a58b-44e58bf81974",
   "metadata": {},
   "outputs": [],
   "source": [
    "#import neccessary packages\n",
    "import pandas as pd\n",
    "import pingouin\n",
    "alpha = 0.05"
   ]
  },
  {
   "cell_type": "markdown",
   "id": "71609c90-2632-4712-9fee-83feb83efee2",
   "metadata": {},
   "source": [
    "### Load Data\n",
    "Load the `countypres_2000-2024.csv` dataset into a pandas DataFrame.\n",
    "\n"
   ]
  },
  {
   "cell_type": "code",
   "execution_count": 7,
   "id": "5cd12225-5294-4534-8928-f2c289c9d8d8",
   "metadata": {},
   "outputs": [
    {
     "data": {
      "text/html": [
       "<div>\n",
       "<style scoped>\n",
       "    .dataframe tbody tr th:only-of-type {\n",
       "        vertical-align: middle;\n",
       "    }\n",
       "\n",
       "    .dataframe tbody tr th {\n",
       "        vertical-align: top;\n",
       "    }\n",
       "\n",
       "    .dataframe thead th {\n",
       "        text-align: right;\n",
       "    }\n",
       "</style>\n",
       "<table border=\"1\" class=\"dataframe\">\n",
       "  <thead>\n",
       "    <tr style=\"text-align: right;\">\n",
       "      <th></th>\n",
       "      <th>year</th>\n",
       "      <th>state</th>\n",
       "      <th>state_po</th>\n",
       "      <th>county_name</th>\n",
       "      <th>county_fips</th>\n",
       "      <th>office</th>\n",
       "      <th>candidate</th>\n",
       "      <th>party</th>\n",
       "      <th>candidatevotes</th>\n",
       "      <th>totalvotes</th>\n",
       "      <th>version</th>\n",
       "      <th>mode</th>\n",
       "    </tr>\n",
       "  </thead>\n",
       "  <tbody>\n",
       "    <tr>\n",
       "      <th>0</th>\n",
       "      <td>2000</td>\n",
       "      <td>ALABAMA</td>\n",
       "      <td>AL</td>\n",
       "      <td>AUTAUGA</td>\n",
       "      <td>01001</td>\n",
       "      <td>US PRESIDENT</td>\n",
       "      <td>AL GORE</td>\n",
       "      <td>DEMOCRAT</td>\n",
       "      <td>4942</td>\n",
       "      <td>17208</td>\n",
       "      <td>20250712</td>\n",
       "      <td>TOTAL</td>\n",
       "    </tr>\n",
       "    <tr>\n",
       "      <th>1</th>\n",
       "      <td>2000</td>\n",
       "      <td>ALABAMA</td>\n",
       "      <td>AL</td>\n",
       "      <td>AUTAUGA</td>\n",
       "      <td>01001</td>\n",
       "      <td>US PRESIDENT</td>\n",
       "      <td>GEORGE W. BUSH</td>\n",
       "      <td>REPUBLICAN</td>\n",
       "      <td>11993</td>\n",
       "      <td>17208</td>\n",
       "      <td>20250712</td>\n",
       "      <td>TOTAL</td>\n",
       "    </tr>\n",
       "    <tr>\n",
       "      <th>2</th>\n",
       "      <td>2000</td>\n",
       "      <td>ALABAMA</td>\n",
       "      <td>AL</td>\n",
       "      <td>AUTAUGA</td>\n",
       "      <td>01001</td>\n",
       "      <td>US PRESIDENT</td>\n",
       "      <td>OTHER</td>\n",
       "      <td>OTHER</td>\n",
       "      <td>113</td>\n",
       "      <td>17208</td>\n",
       "      <td>20250712</td>\n",
       "      <td>TOTAL</td>\n",
       "    </tr>\n",
       "    <tr>\n",
       "      <th>3</th>\n",
       "      <td>2000</td>\n",
       "      <td>ALABAMA</td>\n",
       "      <td>AL</td>\n",
       "      <td>AUTAUGA</td>\n",
       "      <td>01001</td>\n",
       "      <td>US PRESIDENT</td>\n",
       "      <td>RALPH NADER</td>\n",
       "      <td>GREEN</td>\n",
       "      <td>160</td>\n",
       "      <td>17208</td>\n",
       "      <td>20250712</td>\n",
       "      <td>TOTAL</td>\n",
       "    </tr>\n",
       "    <tr>\n",
       "      <th>4</th>\n",
       "      <td>2000</td>\n",
       "      <td>ALABAMA</td>\n",
       "      <td>AL</td>\n",
       "      <td>BALDWIN</td>\n",
       "      <td>01003</td>\n",
       "      <td>US PRESIDENT</td>\n",
       "      <td>AL GORE</td>\n",
       "      <td>DEMOCRAT</td>\n",
       "      <td>13997</td>\n",
       "      <td>56480</td>\n",
       "      <td>20250712</td>\n",
       "      <td>TOTAL</td>\n",
       "    </tr>\n",
       "  </tbody>\n",
       "</table>\n",
       "</div>"
      ],
      "text/plain": [
       "   year    state state_po county_name county_fips        office  \\\n",
       "0  2000  ALABAMA       AL     AUTAUGA       01001  US PRESIDENT   \n",
       "1  2000  ALABAMA       AL     AUTAUGA       01001  US PRESIDENT   \n",
       "2  2000  ALABAMA       AL     AUTAUGA       01001  US PRESIDENT   \n",
       "3  2000  ALABAMA       AL     AUTAUGA       01001  US PRESIDENT   \n",
       "4  2000  ALABAMA       AL     BALDWIN       01003  US PRESIDENT   \n",
       "\n",
       "        candidate       party  candidatevotes  totalvotes   version   mode  \n",
       "0         AL GORE    DEMOCRAT            4942       17208  20250712  TOTAL  \n",
       "1  GEORGE W. BUSH  REPUBLICAN           11993       17208  20250712  TOTAL  \n",
       "2           OTHER       OTHER             113       17208  20250712  TOTAL  \n",
       "3     RALPH NADER       GREEN             160       17208  20250712  TOTAL  \n",
       "4         AL GORE    DEMOCRAT           13997       56480  20250712  TOTAL  "
      ]
     },
     "execution_count": 7,
     "metadata": {},
     "output_type": "execute_result"
    }
   ],
   "source": [
    "df = pd.read_csv('../../data/countypres_2000-2024.csv')\n",
    "#inspect dataset\n",
    "df.head()"
   ]
  },
  {
   "cell_type": "markdown",
   "id": "ea046389-d197-4a25-904e-dcb75737e022",
   "metadata": {},
   "source": [
    "### Data Cleaning and Preparation\n",
    "- Filter the DataFrame to include only Republican candidate votes for the years 2008 and 2012.\n",
    "- Drop columns that are not relevant for the analysis, such as `state`, `county_fips`, `office`, `candidate`, `party`, `version`, and `mode`.\n",
    "- Create a new column called `votes_percent` by dividing `candidatevotes` by `totalvotes`."
   ]
  },
  {
   "cell_type": "code",
   "execution_count": 9,
   "id": "06c09711-0081-437d-9916-9395aadd92be",
   "metadata": {},
   "outputs": [],
   "source": [
    "#Data cleaning and prep\n",
    "#Since we are only interested in years 2008 and 2012 for republican candidates, filter for those records and copy them to a new dataframe.\n",
    "filt = (df['year'].isin([2008, 2012])) & (df['party'] == 'REPUBLICAN')\n",
    "repub_votes_potus_08_12 = df.loc[filt].copy()\n",
    "#drop columns that are not of interest.\n",
    "repub_votes_potus_08_12.drop(columns=['state', 'county_fips', 'office', 'candidate', 'party', 'version', 'mode'], axis = 'columns', inplace=True)\n",
    "#create new column 'votes_percent'\n",
    "repub_votes_potus_08_12['votes_percent'] = repub_votes_potus_08_12['candidatevotes']/repub_votes_potus_08_12['totalvotes']"
   ]
  },
  {
   "cell_type": "markdown",
   "id": "5a9fc878-29af-42e1-9dcd-df51c9b48616",
   "metadata": {},
   "source": [
    "### Reshape the DataFrame\n",
    "- Pivot the DataFrame so that `state_po` and `county_name` form the index, `year` becomes the columns, and `votes_percent` are the values.\n",
    "- Rename the year columns (2008 and 2012) to `percent_08` and `percent_12` for clarity."
   ]
  },
  {
   "cell_type": "code",
   "execution_count": 11,
   "id": "daa3c087-432f-49d9-a024-f114cd2c5e8b",
   "metadata": {},
   "outputs": [],
   "source": [
    "repub_votes_potus_08_12 = repub_votes_potus_08_12.pivot_table(index=['state_po', 'county_name'], columns='year', values='votes_percent')\n",
    "repub_votes_potus_08_12.rename(columns={2008:'percent_08', 2012:'percent_12'}, inplace=True)"
   ]
  },
  {
   "cell_type": "markdown",
   "id": "fdb1c761-de56-4650-9076-07eb8f57f10d",
   "metadata": {},
   "source": [
    "### Perform Paired t-test\n",
    "Execute a paired t-test using `pingouin.ttest` with percent_08 as x, percent_12 as y, paired=True, and alternative='less'.\n",
    "\n"
   ]
  },
  {
   "cell_type": "code",
   "execution_count": 13,
   "id": "40ce0aed-9fe7-409a-a2fa-67a21b92b8d5",
   "metadata": {},
   "outputs": [],
   "source": [
    "paired_test = pingouin.ttest(x=repub_votes_potus_08_12['percent_08'], y=repub_votes_potus_08_12['percent_12'], paired=True, alternative='less')"
   ]
  },
  {
   "cell_type": "markdown",
   "id": "f2f60701-51a4-46d0-86ee-04a4471267be",
   "metadata": {},
   "source": [
    "## 3. Make a decision and interpret results\n",
    "Retrieve the p-value from the t-test result.\n",
    "\n",
    "Compare the p-value to the alpha (0.05).\n",
    "\n",
    "If `p_value < alpha`, reject the null hypothesis. This suggests sufficient statistical evidence that the percentage of Republican candidate votes in 2008 was less than in 2012.\n",
    "\n",
    "If `p_value >= alpha`, fail to reject the null hypothesis. This means there is not enough statistical evidence to conclude that the percentage of Republican candidate votes in 2008 was less than in 2012."
   ]
  },
  {
   "cell_type": "code",
   "execution_count": 15,
   "id": "428be88a-5905-4166-97da-bf5d98b1f03d",
   "metadata": {},
   "outputs": [
    {
     "name": "stdout",
     "output_type": "stream",
     "text": [
      "1.202835209065816e-257\n",
      "p_value: 0.0000000000\n",
      "Reject Null Hypothesis\n"
     ]
    }
   ],
   "source": [
    "p_value = paired_test['p-val'].values[0]\n",
    "print(p_value)\n",
    "print(f\"p_value: {p_value:.10f}\")\n",
    "\n",
    "\n",
    "if p_value < alpha:\n",
    "    print(\"Reject Null Hypothesis\")\n",
    "else:\n",
    "    print(\"Failed to reject null hypothesis\")"
   ]
  },
  {
   "cell_type": "markdown",
   "id": "69186e65-0d9a-401b-9a56-02351c743903",
   "metadata": {},
   "source": [
    "## 4. Result Interpretation:\n",
    "In this specific execution, the p-value was approximately 0.00000. Since 0.00000 is less than 0.05, the null hypothesis is rejected. This provides statistically significant evidence to support the claim that the percentage of Republican candidate votes in 2008 was less than the percentage of votes in 2012."
   ]
  }
 ],
 "metadata": {
  "kernelspec": {
   "display_name": "Python [conda env:base] *",
   "language": "python",
   "name": "conda-base-py"
  },
  "language_info": {
   "codemirror_mode": {
    "name": "ipython",
    "version": 3
   },
   "file_extension": ".py",
   "mimetype": "text/x-python",
   "name": "python",
   "nbconvert_exporter": "python",
   "pygments_lexer": "ipython3",
   "version": "3.13.5"
  }
 },
 "nbformat": 4,
 "nbformat_minor": 5
}
