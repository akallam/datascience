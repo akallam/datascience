{
 "cells": [
  {
   "cell_type": "markdown",
   "id": "50914bfe",
   "metadata": {},
   "source": [
    "## Chi-square Test for Independence\n",
    "\n",
    "### Introduction\n",
    "In this notebook, we will perform a chi-square test for independence to assess the relationship between two categorical variables using a sample dataset from the Pingouin library. The analysis focuses on whether age categories are associated with the target variable.\n",
    "\n",
    "### Dataset Description\n",
    "The dataset contains the following columns:\n",
    "- **age**: Continuous variable representing the age of individuals.\n",
    "- **target**: Categorical variable indicating the outcome or group assignment for each individual.\n",
    "- **age_cat**: Derived categorical variable created by binning the `age` column into discrete categories (e.g., Young, Middle-aged, Senior, Elderly).\n",
    "\n",
    "### Problem Statement\n",
    "- **Null Hypothesis (H₀):** The `age_cat` variable and `target` are independent.\n",
    "- **Alternative Hypothesis (H₁):** The `age_cat` variable and `target` are associated."
   ]
  },
  {
   "cell_type": "code",
   "execution_count": 13,
   "id": "3762df3f",
   "metadata": {},
   "outputs": [],
   "source": [
    "# Import Pingouin for statistical tests\n",
    "import pingouin as pg\n",
    "\n",
    "# Import NumPy for numerical operations\n",
    "import numpy as np\n",
    "\n",
    "# Import pandas for data manipulation\n",
    "import pandas as pd\n",
    "\n",
    "# Import matplotlib for data visualization\n",
    "import matplotlib.pyplot as plt\n",
    "\n",
    "# Set significance level for hypothesis testing\n",
    "alpha = 0.05"
   ]
  },
  {
   "cell_type": "code",
   "execution_count": 14,
   "id": "0e9149ba",
   "metadata": {},
   "outputs": [
    {
     "data": {
      "text/html": [
       "<div>\n",
       "<style scoped>\n",
       "    .dataframe tbody tr th:only-of-type {\n",
       "        vertical-align: middle;\n",
       "    }\n",
       "\n",
       "    .dataframe tbody tr th {\n",
       "        vertical-align: top;\n",
       "    }\n",
       "\n",
       "    .dataframe thead th {\n",
       "        text-align: right;\n",
       "    }\n",
       "</style>\n",
       "<table border=\"1\" class=\"dataframe\">\n",
       "  <thead>\n",
       "    <tr style=\"text-align: right;\">\n",
       "      <th></th>\n",
       "      <th>age</th>\n",
       "      <th>sex</th>\n",
       "      <th>cp</th>\n",
       "      <th>trestbps</th>\n",
       "      <th>chol</th>\n",
       "      <th>fbs</th>\n",
       "      <th>restecg</th>\n",
       "      <th>thalach</th>\n",
       "      <th>exang</th>\n",
       "      <th>oldpeak</th>\n",
       "      <th>slope</th>\n",
       "      <th>ca</th>\n",
       "      <th>thal</th>\n",
       "      <th>target</th>\n",
       "    </tr>\n",
       "  </thead>\n",
       "  <tbody>\n",
       "    <tr>\n",
       "      <th>0</th>\n",
       "      <td>63</td>\n",
       "      <td>1</td>\n",
       "      <td>3</td>\n",
       "      <td>145</td>\n",
       "      <td>233</td>\n",
       "      <td>1</td>\n",
       "      <td>0</td>\n",
       "      <td>150</td>\n",
       "      <td>0</td>\n",
       "      <td>2.3</td>\n",
       "      <td>0</td>\n",
       "      <td>0</td>\n",
       "      <td>1</td>\n",
       "      <td>1</td>\n",
       "    </tr>\n",
       "    <tr>\n",
       "      <th>1</th>\n",
       "      <td>37</td>\n",
       "      <td>1</td>\n",
       "      <td>2</td>\n",
       "      <td>130</td>\n",
       "      <td>250</td>\n",
       "      <td>0</td>\n",
       "      <td>1</td>\n",
       "      <td>187</td>\n",
       "      <td>0</td>\n",
       "      <td>3.5</td>\n",
       "      <td>0</td>\n",
       "      <td>0</td>\n",
       "      <td>2</td>\n",
       "      <td>1</td>\n",
       "    </tr>\n",
       "    <tr>\n",
       "      <th>2</th>\n",
       "      <td>41</td>\n",
       "      <td>0</td>\n",
       "      <td>1</td>\n",
       "      <td>130</td>\n",
       "      <td>204</td>\n",
       "      <td>0</td>\n",
       "      <td>0</td>\n",
       "      <td>172</td>\n",
       "      <td>0</td>\n",
       "      <td>1.4</td>\n",
       "      <td>2</td>\n",
       "      <td>0</td>\n",
       "      <td>2</td>\n",
       "      <td>1</td>\n",
       "    </tr>\n",
       "    <tr>\n",
       "      <th>3</th>\n",
       "      <td>56</td>\n",
       "      <td>1</td>\n",
       "      <td>1</td>\n",
       "      <td>120</td>\n",
       "      <td>236</td>\n",
       "      <td>0</td>\n",
       "      <td>1</td>\n",
       "      <td>178</td>\n",
       "      <td>0</td>\n",
       "      <td>0.8</td>\n",
       "      <td>2</td>\n",
       "      <td>0</td>\n",
       "      <td>2</td>\n",
       "      <td>1</td>\n",
       "    </tr>\n",
       "    <tr>\n",
       "      <th>4</th>\n",
       "      <td>57</td>\n",
       "      <td>0</td>\n",
       "      <td>0</td>\n",
       "      <td>120</td>\n",
       "      <td>354</td>\n",
       "      <td>0</td>\n",
       "      <td>1</td>\n",
       "      <td>163</td>\n",
       "      <td>1</td>\n",
       "      <td>0.6</td>\n",
       "      <td>2</td>\n",
       "      <td>0</td>\n",
       "      <td>2</td>\n",
       "      <td>1</td>\n",
       "    </tr>\n",
       "  </tbody>\n",
       "</table>\n",
       "</div>"
      ],
      "text/plain": [
       "   age  sex  cp  trestbps  chol  fbs  restecg  thalach  exang  oldpeak  slope  \\\n",
       "0   63    1   3       145   233    1        0      150      0      2.3      0   \n",
       "1   37    1   2       130   250    0        1      187      0      3.5      0   \n",
       "2   41    0   1       130   204    0        0      172      0      1.4      2   \n",
       "3   56    1   1       120   236    0        1      178      0      0.8      2   \n",
       "4   57    0   0       120   354    0        1      163      1      0.6      2   \n",
       "\n",
       "   ca  thal  target  \n",
       "0   0     1       1  \n",
       "1   0     2       1  \n",
       "2   0     2       1  \n",
       "3   0     2       1  \n",
       "4   0     2       1  "
      ]
     },
     "execution_count": 14,
     "metadata": {},
     "output_type": "execute_result"
    }
   ],
   "source": [
    "# read pingouin inbuilt dataset for chi2 test.\n",
    "df = pg.read_dataset(\"chi2_independence.csv\")\n",
    "# inspect dataset using head.\n",
    "df.head()"
   ]
  },
  {
   "cell_type": "markdown",
   "id": "974ae007",
   "metadata": {},
   "source": [
    "### Creating Age Categories\n",
    "To enable categorical analysis, we derive a new column `age_cat` by binning the continuous `age` values into discrete age groups. This transformation allows us to examine the association between age categories and the target variable using the chi-square test."
   ]
  },
  {
   "cell_type": "code",
   "execution_count": 15,
   "id": "f0b7006b",
   "metadata": {},
   "outputs": [],
   "source": [
    "# create new age categories column to split age values into five categories using pd.cut and linspace from numpy.\n",
    "df['age_cat'] = pd.cut(df['age'], bins=np.linspace(df['age'].min(), df['age'].max(), 5), labels=['Young', 'Middle-aged', 'Senior', 'Elderly'])\n"
   ]
  },
  {
   "cell_type": "markdown",
   "id": "c1b98438",
   "metadata": {},
   "source": [
    "### Visualizing Target Distribution by Age Category\n",
    "The following plot displays the distribution of the target variable across the derived age categories. This visualization helps to observe any patterns or differences in the target variable among different age groups before conducting the chi-square test for independence."
   ]
  },
  {
   "cell_type": "code",
   "execution_count": 16,
   "id": "b737579d",
   "metadata": {},
   "outputs": [
    {
     "data": {
      "image/png": "[encoded data removed]",
      "text/plain": [
       "<Figure size 640x480 with 1 Axes>"
      ]
     },
     "metadata": {},
     "output_type": "display_data"
    }
   ],
   "source": [
    "props = df.groupby('age_cat', observed=True)['target'].value_counts()\n",
    "props.unstack().plot(kind='bar', stacked=True)\n",
    "plt.title('Target Distribution by Age Category')\n",
    "plt.xlabel('Age Category')\n",
    "plt.ylabel('Target')\n",
    "plt.legend(title='Target')\n",
    "plt.show()"
   ]
  },
  {
   "cell_type": "markdown",
   "id": "1de177fc",
   "metadata": {},
   "source": [
    "### Performing the Chi-square Test for Independence\n",
    "We now perform the chi-square test for independence using the `pg.chi2_independence` function from Pingouin. This test evaluates whether there is a significant association between age categories and the target variable.\n",
    "### Extracting Pearson Test Results and p-value\n",
    "After running the test, we extract the results for the Pearson chi-square test and obtain the p-value, which will be used to determine statistical significance.\n",
    "### Interpreting the Results\n",
    "We compare the calculated p-value with the chosen significance level (alpha = 0.05):\n",
    "- If the p-value is less than alpha, we reject the null hypothesis and conclude that there is a significant association between age categories and the target variable.\n",
    "- If the p-value is greater than or equal to alpha, we fail to reject the null hypothesis and conclude that there is no significant association between age categories and the target variable."
   ]
  },
  {
   "cell_type": "code",
   "execution_count": 17,
   "id": "d0435e0a",
   "metadata": {},
   "outputs": [
    {
     "name": "stdout",
     "output_type": "stream",
     "text": [
      "                 test    lambda       chi2  dof      pval    cramer     power\n",
      "0             pearson  1.000000  23.555330  3.0  0.000031  0.278820  0.990092\n",
      "1        cressie-read  0.666667  23.677821  3.0  0.000029  0.279544  0.990410\n",
      "2      log-likelihood  0.000000  24.071790  3.0  0.000024  0.281860  0.991369\n",
      "3       freeman-tukey -0.500000  24.507558  3.0  0.000020  0.284399  0.992323\n",
      "4  mod-log-likelihood -1.000000  25.075584  3.0  0.000015  0.287676  0.993417\n",
      "5              neyman -2.000000  26.666653  3.0  0.000007  0.296663  0.995745\n",
      "      test  lambda      chi2  dof      pval   cramer     power\n",
      "0  pearson     1.0  23.55533  3.0  0.000031  0.27882  0.990092\n"
     ]
    }
   ],
   "source": [
    "expected, observed, stats = pg.chi2_independence(df, x='age_cat', y='target', \n",
    "                                                       correction=False)\n",
    "print(stats)    \n",
    "pearson = stats.loc[stats['test'] == 'pearson']\n",
    "print(pearson)\n",
    "pval = pearson['pval'].values[0]\n"
   ]
  },
  {
   "cell_type": "code",
   "execution_count": 18,
   "id": "c678d870",
   "metadata": {},
   "outputs": [
    {
     "name": "stdout",
     "output_type": "stream",
     "text": [
      "p-value = 0.0000 < alpha = 0.05. Reject the null hypothesis: There is a significant association between age categories and the target variable.\n"
     ]
    }
   ],
   "source": [
    "if pval < alpha:\n",
    "    print(f\"p-value = {pval:.4f} < alpha = {alpha}. Reject the null hypothesis: There is a significant association between age categories and the target variable.\")\n",
    "else:\n",
    "    print(f\"p-value = {pval:.4f} >= alpha = {alpha}. Fail to reject the null hypothesis: There is no significant association between age categories and the target variable.\")"
   ]
  }
 ],
 "metadata": {
  "kernelspec": {
   "display_name": "base",
   "language": "python",
   "name": "python3"
  },
  "language_info": {
   "codemirror_mode": {
    "name": "ipython",
    "version": 3
   },
   "file_extension": ".py",
   "mimetype": "text/x-python",
   "name": "python",
   "nbconvert_exporter": "python",
   "pygments_lexer": "ipython3",
   "version": "3.13.5"
  }
 },
 "nbformat": 4,
 "nbformat_minor": 5
}
