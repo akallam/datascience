{
 "cells": [
  {
   "cell_type": "markdown",
   "id": "47e5c6c3",
   "metadata": {},
   "source": [
    "## Chi-Square Goodness-of-Fit Test\n",
    "\n",
    "### Objective\n",
    "Apply the chi-square goodness-of-fit test to determine if a sample distribution matches a hypothesized population distribution. We will be calculating the expected frequencies, the chi-square test statistic, and the p-value, and then draw a conclusion.\n",
    "***\n",
    "\n",
    "#### M&M's Color Distribution 🍫\n",
    "A bag of M&M's claims to have the following color distribution (**Expectation**):\n",
    "* Brown: 30%\n",
    "* Yellow: 20%\n",
    "* Red: 20%\n",
    "* Blue: 10%\n",
    "* Orange: 10%\n",
    "* Green: 10%\n",
    "\n",
    "On opening a large bag of M&M's here are the **observations**.\n",
    "* Brown: 150\n",
    "* Yellow: 95\n",
    "* Red: 110\n",
    "* Blue: 48\n",
    "* Orange: 52\n",
    "* Green: 45\n",
    "\n",
    "\n",
    "**The Hypotheses:** \n",
    "\n",
    "**$H_0$**: The Null hypothesis states that there's no difference between the observed and expected data. It clains that the proportions of M&M's colors in the bag are exactly as the company states.\n",
    "- Brown: 30%\n",
    "- Yellow: 20%\n",
    "- Red: 20%\n",
    "- Blue: 10%\n",
    "- Orange: 10%\n",
    "- Green: 10%\n",
    "\n",
    "**$H_a$**: At least one of the M&M's color proportions is different from the values stated in the null hypothesis.\n",
    "\n"
   ]
  },
  {
   "cell_type": "code",
   "execution_count": 29,
   "id": "38e411fa",
   "metadata": {},
   "outputs": [],
   "source": [
    "import pandas as pd\n",
    "import matplotlib.pyplot as plt\n",
    "%matplotlib inline\n",
    "from scipy.stats import chisquare\n",
    "alpha = 0.05"
   ]
  },
  {
   "cell_type": "code",
   "execution_count": null,
   "id": "9b3fb0dc",
   "metadata": {},
   "outputs": [
    {
     "data": {
      "text/html": [
       "<div>\n",
       "<style scoped>\n",
       "    .dataframe tbody tr th:only-of-type {\n",
       "        vertical-align: middle;\n",
       "    }\n",
       "\n",
       "    .dataframe tbody tr th {\n",
       "        vertical-align: top;\n",
       "    }\n",
       "\n",
       "    .dataframe thead th {\n",
       "        text-align: right;\n",
       "    }\n",
       "</style>\n",
       "<table border=\"1\" class=\"dataframe\">\n",
       "  <thead>\n",
       "    <tr style=\"text-align: right;\">\n",
       "      <th></th>\n",
       "      <th>Expected</th>\n",
       "      <th>Observed</th>\n",
       "    </tr>\n",
       "  </thead>\n",
       "  <tbody>\n",
       "    <tr>\n",
       "      <th>Brown</th>\n",
       "      <td>150.0</td>\n",
       "      <td>150</td>\n",
       "    </tr>\n",
       "    <tr>\n",
       "      <th>Yellow</th>\n",
       "      <td>100.0</td>\n",
       "      <td>95</td>\n",
       "    </tr>\n",
       "    <tr>\n",
       "      <th>Red</th>\n",
       "      <td>100.0</td>\n",
       "      <td>110</td>\n",
       "    </tr>\n",
       "    <tr>\n",
       "      <th>Blue</th>\n",
       "      <td>50.0</td>\n",
       "      <td>48</td>\n",
       "    </tr>\n",
       "    <tr>\n",
       "      <th>Orange</th>\n",
       "      <td>50.0</td>\n",
       "      <td>52</td>\n",
       "    </tr>\n",
       "    <tr>\n",
       "      <th>Green</th>\n",
       "      <td>50.0</td>\n",
       "      <td>45</td>\n",
       "    </tr>\n",
       "  </tbody>\n",
       "</table>\n",
       "</div>"
      ],
      "text/plain": [
       "        Expected  Observed\n",
       "Brown      150.0       150\n",
       "Yellow     100.0        95\n",
       "Red        100.0       110\n",
       "Blue        50.0        48\n",
       "Orange      50.0        52\n",
       "Green       50.0        45"
      ]
     },
     "execution_count": 34,
     "metadata": {},
     "output_type": "execute_result"
    }
   ],
   "source": [
    "colors = [\"Brown\", \"Yellow\", \"Red\", \"Blue\", \"Orange\", \"Green\"]\n",
    "expected = pd.Series([0.30, 0.20, 0.20, 0.10, 0.10, 0.10], index=colors)\n",
    "observed = pd.Series([150, 95, 110, 48, 52, 45], index=colors)\n",
    "n_obs = observed.sum()\n",
    "#Based on the company's claimed proportions, we can calculate the expected counts for each color. \n",
    "expected = expected * n_obs  # Scale expected counts to match observed total\n",
    "# Create a DataFrame with expected and observed counts for colors\n",
    "df = pd.DataFrame({\"Expected\": expected, \"Observed\": observed}, index=colors)\n",
    "df.head(len(colors))"
   ]
  },
  {
   "cell_type": "markdown",
   "id": "f1abdb98",
   "metadata": {},
   "source": [
    "### Calculating Expected and Observed Counts\n",
    "We calculate the expected counts for each M&M's color based on the company's claimed proportions and the total number of candies observed. These expected counts are then compared to the actual observed counts from the sample. The results are organized into a DataFrame for further analysis and visualization."
   ]
  },
  {
   "cell_type": "code",
   "execution_count": 24,
   "id": "93be0a94",
   "metadata": {},
   "outputs": [
    {
     "data": {
      "image/png": "[encoded data removed]",
      "text/plain": [
       "<Figure size 800x500 with 1 Axes>"
      ]
     },
     "metadata": {},
     "output_type": "display_data"
    }
   ],
   "source": [
    "df.plot(kind='bar', figsize=(8, 5))\n",
    "plt.title(\"Expected vs Observed M&M's Color Distribution\")\n",
    "plt.xlabel(\"Color\")\n",
    "plt.ylabel(\"Count\")\n",
    "plt.xticks(rotation=0)\n",
    "plt.legend([\"Expected\", \"Observed\"])\n",
    "plt.tight_layout()\n",
    "plt.show()"
   ]
  },
  {
   "cell_type": "markdown",
   "id": "9aaf740d",
   "metadata": {},
   "source": [
    "### Computing the Chi-Square Statistic and p-value\n",
    "In this step, we use the chi-square goodness-of-fit test to compare the observed and expected counts for each M&M's color. The test calculates the chi-square statistic and the corresponding p-value, which will help us determine whether the observed distribution significantly differs from the expected distribution."
   ]
  },
  {
   "cell_type": "code",
   "execution_count": null,
   "id": "5b9a8dd6",
   "metadata": {},
   "outputs": [
    {
     "name": "stdout",
     "output_type": "stream",
     "text": [
      "Chi-squared Statistic: 1.91\n",
      "P-value: 0.8615\n"
     ]
    }
   ],
   "source": [
    "#Compute the Chi-Square Statistic and P-value.\n",
    "result = chisquare(f_obs=df['Observed'], f_exp=df['Expected'])\n",
    "chi_squared_stat = round(result.statistic, 4)\n",
    "p_value = round(result.pvalue, 4)   \n",
    "print(\"Chi-squared Statistic:\", chi_squared_stat)\n",
    "print(\"P-value:\", p_value)"
   ]
  },
  {
   "cell_type": "code",
   "execution_count": 32,
   "id": "a9254085",
   "metadata": {},
   "outputs": [
    {
     "name": "stdout",
     "output_type": "stream",
     "text": [
      "Since p-value: 0.8615 is greater than alpha: 0.05 we fail to reject the null hypothesis. This means there is not enough statistical evidence to conclude that the observed distribution of M&M's colors is significantly different from the company's claimed proportions. The small differences observed are likely due to random chance.\n"
     ]
    }
   ],
   "source": [
    "if(p_value < alpha):\n",
    "    print(\"Reject the null hypothesis\")\n",
    "else:\n",
    "    print(\"Since p-value:\", p_value, \"is greater than alpha:\", alpha, \"we fail to reject the null hypothesis. This means there is not enough statistical evidence to conclude that the observed distribution of M&M's colors is significantly different from the company's claimed proportions. The small differences observed are likely due to random chance.\")"
   ]
  },
  {
   "cell_type": "markdown",
   "id": "7c99f5ec",
   "metadata": {},
   "source": [
    "### Conclusion\n",
    "Based on the comparison of the p-value with the significance level (alpha = 0.05), we determine whether to reject or fail to reject the null hypothesis. If the p-value is less than alpha, there is sufficient evidence to conclude that the observed color distribution of M&M's is significantly different from the company's claimed proportions. If the p-value is greater than or equal to alpha, we fail to reject the null hypothesis, indicating that any differences are likely due to random chance and the observed distribution matches the expected proportions."
   ]
  }
 ],
 "metadata": {
  "kernelspec": {
   "display_name": "base",
   "language": "python",
   "name": "python3"
  },
  "language_info": {
   "codemirror_mode": {
    "name": "ipython",
    "version": 3
   },
   "file_extension": ".py",
   "mimetype": "text/x-python",
   "name": "python",
   "nbconvert_exporter": "python",
   "pygments_lexer": "ipython3",
   "version": "3.13.5"
  }
 },
 "nbformat": 4,
 "nbformat_minor": 5
}
